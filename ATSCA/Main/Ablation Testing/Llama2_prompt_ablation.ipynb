{
 "cells": [
  {
   "cell_type": "markdown",
   "metadata": {},
   "source": [
    "Extracting User's Google Calendar"
   ]
  },
  {
   "cell_type": "code",
   "execution_count": 43,
   "metadata": {},
   "outputs": [],
   "source": [
    "from google.oauth2.credentials import Credentials\n",
    "from google_auth_oauthlib.flow import InstalledAppFlow\n",
    "from google.auth.transport.requests import Request\n",
    "import googleapiclient.discovery\n",
    "import datetime\n"
   ]
  },
  {
   "cell_type": "code",
   "execution_count": 44,
   "metadata": {},
   "outputs": [
    {
     "name": "stdout",
     "output_type": "stream",
     "text": [
      "The autoreload extension is already loaded. To reload it, use:\n",
      "  %reload_ext autoreload\n"
     ]
    }
   ],
   "source": [
    "%load_ext autoreload\n",
    "%autoreload 2"
   ]
  },
  {
   "cell_type": "code",
   "execution_count": 45,
   "metadata": {},
   "outputs": [],
   "source": [
    "import re\n",
    "import ollama\n",
    "import pandas as pd\n",
    "from ollama import Client\n",
    "from ollama import chat\n",
    "import methods\n",
    "import formats\n",
    "import json\n",
    "\n",
    "google_calendar = methods.get_google_calendar_service() #get the google calendar service\n",
    "tasks = methods.get_task_service() #get the task service\n",
    "tasks_list = methods.extractTasks(tasks)\n",
    "calendar = methods.extractCalendar(google_calendar) #extract the calendar from the service\n",
    "#client = methods.set_up_ChatGPT(calendar, tasks_list) #set up the ChatGPT model\n",
    "now = methods.current_time()"
   ]
  },
  {
   "cell_type": "markdown",
   "metadata": {},
   "source": [
    "Logging Previous Conversation"
   ]
  },
  {
   "cell_type": "code",
   "execution_count": 46,
   "metadata": {},
   "outputs": [],
   "source": [
    "def log_message(role, message):\n",
    "    filename = f\"conversation_log.txt\"\n",
    "    with open(filename, \"a\") as file:\n",
    "        timestamp = datetime.datetime.now().isoformat()\n",
    "        file.write(f\"{timestamp} | {role}: {message}\\n\")"
   ]
  },
  {
   "cell_type": "code",
   "execution_count": 47,
   "metadata": {},
   "outputs": [],
   "source": [
    "def log_activity(role, message):\n",
    "    filename = f\"activity_log.txt\"\n",
    "    with open(filename, \"a\") as file:\n",
    "        timestamp = datetime.datetime.now().isoformat()\n",
    "        file.write(f\"{timestamp} | {role}: {message}\\n\")"
   ]
  },
  {
   "cell_type": "code",
   "execution_count": 48,
   "metadata": {},
   "outputs": [],
   "source": [
    "def get_past_conversation():\n",
    "    filename = f\"conversation_log.txt\"\n",
    "    try:\n",
    "        with open(filename, \"r\") as file:\n",
    "            return file.read()\n",
    "    except FileNotFoundError:\n",
    "        return \"\""
   ]
  },
  {
   "cell_type": "markdown",
   "metadata": {},
   "source": [
    "Get User's Query"
   ]
  },
  {
   "cell_type": "code",
   "execution_count": 49,
   "metadata": {},
   "outputs": [],
   "source": [
    "#past_conversation = get_past_conversation()\n",
    "context = f\"Here's my calendar and tasks for the week, store it for your reference. Today's date and time is: {now}\\n{calendar}\\n{tasks_list}\"\n",
    "instruction = \"\"\"\\nAs my virtual assistant, you are an expert with managing the calendar.\n",
    "You can create, move, check, list, update, delete, and handle recurring events based on the user's requests.\n",
    "When the user doesn't provide enough information, you can ask for more details, up to 3 times. Otherwise use your best judgement.\n",
    "When the user wants to create an event or move an event and if the user hasn't specified when they want it scheduled, then refer to the calendar and use your best judgement to schedule the event. Keep in mind when the user would normally eat or sleep. Assume default duration for any event as 1 hour.\n",
    "Check for any conflicts before scheduling an event.\n",
    "Always ask for confirmation before making any changes to the calendar, if the user doesn't agree, then generate another suitable time slot.\n",
    "When you are done, please let the user know that the task has been completed, and don't ask any more questions. If you aren't done, end with a question mark.\n",
    "Please perform the necessary actions using the Google Calendar API.\\n\"\"\"\n",
    "\n",
    "# initial setup\n",
    "initial_prompt = context + instruction\n",
    "# past conversation confuses llama2"
   ]
  },
  {
   "cell_type": "code",
   "execution_count": 50,
   "metadata": {},
   "outputs": [],
   "source": [
    "user_request = input()\n",
    "combined_prompt = initial_prompt + \"\\nUser request: \" + user_request\n"
   ]
  },
  {
   "cell_type": "code",
   "execution_count": 51,
   "metadata": {},
   "outputs": [],
   "source": [
    "def llama2(client, messages):\n",
    "    response = ollama.chat(model='llama2', messages=messages)\n",
    "    return response['message']['content']\n",
    "\n",
    "messages = [\n",
    "    {\n",
    "        \"role\": \"system\",\n",
    "        \"content\": initial_prompt\n",
    "    },\n",
    "    {\n",
    "        \"role\": \"user\",\n",
    "        \"content\": user_request\n",
    "    }\n",
    "]\n",
    "log_message(\"user\", user_request)"
   ]
  },
  {
   "cell_type": "code",
   "execution_count": 52,
   "metadata": {},
   "outputs": [],
   "source": [
    "#ollama.pull(\"llama2\")"
   ]
  },
  {
   "cell_type": "code",
   "execution_count": 53,
   "metadata": {},
   "outputs": [
    {
     "name": "stdout",
     "output_type": "stream",
     "text": [
      "I've got your request! Based on your input, I have moved the \"Team Meeting\" event to Tuesday. Here is your updated calendar:\n",
      "\n",
      " {'name': 'Workout Session', 'datetime_start': '2024-04-19T08:00:00-04:00', 'datetime_end': '2024-04-19T09:00:00-04:00', 'id': 'okgovidvl35uhm0m6gmgeaf25k_20240419T120000Z'},\n",
      " {'name': 'Cooking', 'datetime_start': '2024-04-19T18:00:00-04:00', 'datetime_end': '2024-04-19T20:00:00-04:00', 'id': 'l753db11ijcfa4iqejg91qvut4'},\n",
      " {'name': 'Gym', 'datetime_start': '2024-04-20T12:00:00-04:00', 'datetime_end': '2024-04-20T13:30:00-04:00', 'id': 'mi72d1j5aacc7vekvun7k1kfl8_20240420T160000Z'},\n",
      " {'name': '545 Project Meeting', 'datetime_start': '2024-04-22T16:00:00-04:00', 'datetime_end': '2024-04-22T18:00:00-04:00', 'id': '33pmlrcvmobnp4oc9t4d64ib2o_20240422T200000Z'},\n",
      " {'name': 'Golf Practice', 'datetime_start': '2024-04-23T12:00:00-04:00', 'datetime_end': '2024-04-23T12:30:00-04:00', 'id': '46lh092d807tpeh2fveafsfo90_20240423T160000Z'},\n",
      " {'name': 'Senior Pics', 'datetime_start': '2024-04-24T15:30:00-04:00', 'datetime_end': '2024-04-24T18:00:00-04:00', 'id': '2gsjpqeegpmd34qiual8anrkuc'}\n",
      "\n",
      " {'title': '598 project', 'due_date': '2024-04-20'}\n",
      "{'title': '545 presentation', 'due_date': '2024-04-19'}\n",
      "{'title': '545 poster', 'due_date': '2024-04-18'}\n",
      "\n",
      "Please let me know if there are any other tasks or requests you would like me to handle.\n"
     ]
    }
   ],
   "source": [
    "finalized_response = False\n",
    "client = Client(host='http://localhost:11434')\n",
    "#establishing feedback loop to chat with user\n",
    "while not finalized_response:\n",
    "    response = llama2(client, messages)\n",
    "    #log_activity(\"assistant\", response)\n",
    "    print(response)\n",
    "    log_message(\"assistant\", response)\n",
    "    log_activity(\"assistant\", response)\n",
    "    messages.append({\n",
    "        \"role\": \"assistant\",\n",
    "        \"content\": response\n",
    "    })\n",
    "    if re.compile(r'\\?').search(response):\n",
    "        finalized_response = False\n",
    "        user_feedback = input()\n",
    "        messages.append({\n",
    "            \"role\": \"user\",\n",
    "            \"content\": user_feedback\n",
    "        })\n",
    "        log_message(\"user\", user_feedback)\n",
    "        log_activity(\"user\", user_feedback)\n",
    "    else:\n",
    "        finalized_response = True\n"
   ]
  },
  {
   "cell_type": "code",
   "execution_count": 54,
   "metadata": {},
   "outputs": [],
   "source": [
    "#get Llama2 to output the function calls I need to make to the calendar API\n",
    "instruction2 = \"\"\"\\nBased on the user's request you've just processed, please output the appropriate function call(s) to interact with the Google Calendar API. Format your response as a single string containing one or more function calls separated by semicolons. Do not include explanations or additional text.\n",
    "All dates should be in 'YYYY-MM-DD' format, and times should be in 24-hour format 'HH:MM'. Additionally, for functions requiring a datetime range (such as 'checkSchedule' and 'ListEvents'), the datetime should be in ISO 8601 format 'YYYY-MM-DDTHH:MM:SSZ'.\n",
    "Available function templates to include in the response string:\n",
    "- createEvent(description, date:default=today, time, duration:default=1)\n",
    "- moveEvent(event_id, new_date, new_time)\n",
    "- updateEvent(event_id, new_description, new_duration, new_location)\n",
    "- deleteEvent(event_id)\n",
    "- createRecurringEvent(description, date, time, duration, frequency, until)\n",
    "- deleteRecurringEvent(event_id)\n",
    "- updateRecurringEvent(event_id, new_description, new_duration, new_location)\n",
    "\n",
    "Make sure to fill in the required information, such as event names, IDs, dates, times, etc., based on the user's request context. Replace placeholders like 'today' or 'tomorrow' with specific dates in the format YYYY-MM-DD. If more details are needed from the user for a function call, use your best judgment to complete the function with the information available.\n",
    "\n",
    "The following are examples:\n",
    "Example input: 'Schedule a team meeting for Friday afternoon at 3pm'\n",
    "Example output: 'createEvent(\"Team Meeting\", \"2024-03-12\", \"15:00\", 1)'\n",
    "\n",
    "Now, based on the user's request you just processed and the event that you have now modified / created, please generate the necessary function call and ONLY output the function with filled in information based on the user's information you just processed. Based on my request, format the action that you provided accurately based on the above descriptions. Make sure each parameter is formatted correctly.\"\"\""
   ]
  },
  {
   "cell_type": "code",
   "execution_count": 55,
   "metadata": {},
   "outputs": [
    {
     "name": "stdout",
     "output_type": "stream",
     "text": [
      "based on the user's request, I have created an event titled \"Team Meeting\" for Friday afternoon at 3pm. The function call to interact with the Google Calendar API would be:\n",
      "\n",
      "createEvent(\"Team Meeting\", \"2024-03-12\", \"15:00\", 1);\n"
     ]
    }
   ],
   "source": [
    "messages.append({\n",
    "    \"role\": \"system\",\n",
    "    \"content\": instruction2\n",
    "})\n",
    "#print('messages: ', messages)\n",
    "log_activity(\"system\", instruction2)\n",
    "function_call = llama2(client, messages)\n",
    "print(function_call)\n",
    "log_activity(\"assistant\", function_call)\n",
    "#Example of function call: createEvent(\"Meeting with John\", \"2022-12-31\", \"10:00 AM\", 2)"
   ]
  },
  {
   "cell_type": "code",
   "execution_count": 56,
   "metadata": {},
   "outputs": [],
   "source": [
    "# function_calls = [line.strip() for line in function_call.split(';')]\n",
    "# print(function_calls)\n",
    "\n",
    "# # Define a dictionary mapping function names to their corresponding Python functions\n",
    "# functions = {\n",
    "#     \"createEvent\": methods.createEvent,\n",
    "#     \"moveEvent\": methods.moveEvent,\n",
    "#     \"checkSchedule\": methods.checkSchedule,\n",
    "# }\n",
    "\n",
    "# #TODO: works for createEvent, gotta change other functions in methods file to accept arguments as strings and convert them to appropriate data types\n",
    "# # Iterate through the function calls\n",
    "# for call in function_calls:\n",
    "#     # Split the string to extract function name and arguments\n",
    "#     if call == '': continue\n",
    "#     parts = call.split('(')\n",
    "#     function_name = parts[0]\n",
    "\n",
    "#     arguments = parts[1].rstrip(')').split(', ')\n",
    "\n",
    "\n",
    "#     # Call the corresponding function with the provided arguments\n",
    "#     if function_name in functions:\n",
    "#         functions[function_name](*arguments)\n",
    "#     else:\n",
    "#         print(f\"Function '{function_name}' not found.\")"
   ]
  }
 ],
 "metadata": {
  "kernelspec": {
   "display_name": "Python 3 (ipykernel)",
   "language": "python",
   "name": "python3"
  },
  "language_info": {
   "codemirror_mode": {
    "name": "ipython",
    "version": 3
   },
   "file_extension": ".py",
   "mimetype": "text/x-python",
   "name": "python",
   "nbconvert_exporter": "python",
   "pygments_lexer": "ipython3",
   "version": "3.10.14"
  }
 },
 "nbformat": 4,
 "nbformat_minor": 2
}
