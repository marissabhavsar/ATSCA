{
 "cells": [
  {
   "cell_type": "markdown",
   "metadata": {},
   "source": [
    "Extracting User's Google Calendar"
   ]
  },
  {
   "cell_type": "code",
   "execution_count": 142,
   "metadata": {},
   "outputs": [],
   "source": [
    "from google.oauth2.credentials import Credentials\n",
    "from google_auth_oauthlib.flow import InstalledAppFlow\n",
    "from google.auth.transport.requests import Request\n",
    "import googleapiclient.discovery\n",
    "import datetime\n"
   ]
  },
  {
   "cell_type": "code",
   "execution_count": 143,
   "metadata": {},
   "outputs": [
    {
     "name": "stdout",
     "output_type": "stream",
     "text": [
      "The autoreload extension is already loaded. To reload it, use:\n",
      "  %reload_ext autoreload\n"
     ]
    }
   ],
   "source": [
    "%load_ext autoreload\n",
    "%autoreload 2"
   ]
  },
  {
   "cell_type": "code",
   "execution_count": 144,
   "metadata": {},
   "outputs": [],
   "source": [
    "import re\n",
    "import ollama\n",
    "import pandas as pd\n",
    "from ollama import Client\n",
    "from ollama import chat\n",
    "import methods\n",
    "import formats\n",
    "import json\n",
    "\n",
    "google_calendar = methods.get_google_calendar_service() #get the google calendar service\n",
    "tasks = methods.get_task_service() #get the task service\n",
    "tasks_list = methods.extractTasks(tasks)\n",
    "calendar = methods.extractCalendar(google_calendar) #extract the calendar from the service\n",
    "#client = methods.set_up_ChatGPT(calendar, tasks_list) #set up the ChatGPT model\n",
    "now = methods.current_time()"
   ]
  },
  {
   "cell_type": "markdown",
   "metadata": {},
   "source": [
    "Logging Previous Conversation"
   ]
  },
  {
   "cell_type": "code",
   "execution_count": 145,
   "metadata": {},
   "outputs": [],
   "source": [
    "def log_message(role, message):\n",
    "    filename = f\"conversation_log.txt\"\n",
    "    with open(filename, \"a\") as file:\n",
    "        timestamp = datetime.datetime.now().isoformat()\n",
    "        file.write(f\"{timestamp} | {role}: {message}\\n\")"
   ]
  },
  {
   "cell_type": "code",
   "execution_count": 146,
   "metadata": {},
   "outputs": [],
   "source": [
    "def log_activity(role, message):\n",
    "    filename = f\"activity_log.txt\"\n",
    "    with open(filename, \"a\") as file:\n",
    "        timestamp = datetime.datetime.now().isoformat()\n",
    "        file.write(f\"{timestamp} | {role}: {message}\\n\")"
   ]
  },
  {
   "cell_type": "code",
   "execution_count": 147,
   "metadata": {},
   "outputs": [],
   "source": [
    "def get_past_conversation():\n",
    "    filename = f\"conversation_log.txt\"\n",
    "    try:\n",
    "        with open(filename, \"r\") as file:\n",
    "            return file.read()\n",
    "    except FileNotFoundError:\n",
    "        return \"\""
   ]
  },
  {
   "cell_type": "markdown",
   "metadata": {},
   "source": [
    "Get User's Query"
   ]
  },
  {
   "cell_type": "code",
   "execution_count": 148,
   "metadata": {},
   "outputs": [],
   "source": [
    "#past_conversation = get_past_conversation()\n",
    "# schedule tasks or calendar events\n",
    "\n",
    "context = f\"Here's my calendar and To-Do list for the week, store it for your reference. Calendar: {calendar}\\n To-Do Tasks: {tasks_list} Today's date and time is: {now}\\n\"\n",
    "instruction = \"\"\"\\nAs my trusted virtual assistant, you are an expert in adeptly managing my calendar and assisting with scheduling tasks. Here is what you can do:\n",
    "\n",
    "1. **Calendar Management**:\n",
    " You have the capability to create, adjust, oversee, list, update, delete, and handle recurring events on my calendar as per my requests.\n",
    "    - In situations where I don't provide enough information, you can ask for more details, upto 4 times, otherwise use your best judgement.\n",
    "    - Should an event require scheduling or rescheduling and I haven't provided a specific time, consult my calendar and deduce a suitable time slot using your best judgement. Consider my usual habits, such as meal and sleep times, and assume a standard event duration of 1 hour unless your judgement suggests otherwise based on the nature of the event.\n",
    "    - Before confirming any scheduling actions, scrutinize for any possible scheduling conflicts.\n",
    "    - Always ask for confirmation before making any changes to the calendar. If I reject the suggested time, offer an alternative time slot.\n",
    "    - Inform me when you have successfully completed your task and ensure there are no more pending queries from your end, otherwise always end with a question mark.\n",
    "\n",
    "2. **Task Scheduling**:\n",
    "You have the capability to schedule tasks from my To-Do list into my calendar.\n",
    "    - Utilize your best judgement to organize and propose times for scheduling tasks listed in my To-Do list. Prioritize tasks based on urgency and balance throughout the available slots in my schedule.\n",
    "    - Verify the calendar to ensure a task isn't already scheduled before adding it.\n",
    "    - Check for any conflicts that may arise due to overlapping tasks or events.\n",
    "    - Present a thoughtful plan for the scheduled tasks. Use your best judgement to predict task durations based on the nature of each task.\n",
    "    - Ask for my confirmation before finalizing the schedule.\n",
    "    - If I disagree with the proposed times, offer alternatives based on my feedback.\n",
    "    - Always end your messages with a question mark to indicate that you are seeking a response from me, unless it's a confirmation of a task completion.\n",
    "\n",
    "These are your two functionalities. Based on the user query, perform what is necessary. You are not required to perform both if it is not requested.\n",
    "Please perform the necessary actions using the Google Calendar API based on the user's query. Only perform what is necessary for the user's query.\\n\n",
    "\\n\"\"\"\n",
    "# initial setup\n",
    "\n",
    "initial_prompt = context + instruction"
   ]
  },
  {
   "cell_type": "code",
   "execution_count": 149,
   "metadata": {},
   "outputs": [],
   "source": [
    "user_request = input()\n",
    "combined_prompt = initial_prompt + \"\\nUser request: \" + user_request\n"
   ]
  },
  {
   "cell_type": "code",
   "execution_count": 150,
   "metadata": {},
   "outputs": [],
   "source": [
    "def llama2(client, messages):\n",
    "    response = ollama.chat(model='llama2', messages=messages)\n",
    "    #print(response)\n",
    "    return response['message']['content']\n",
    "\n",
    "messages = [\n",
    "    {\n",
    "        \"role\": \"system\",\n",
    "        \"content\": initial_prompt\n",
    "    },\n",
    "    {\n",
    "        \"role\": \"user\",\n",
    "        \"content\": user_request\n",
    "    }\n",
    "]\n",
    "\n",
    "log_activity(\"system\", context+instruction)\n",
    "log_activity(\"user\", user_request)\n",
    "\n",
    "log_message(\"user\", user_request)"
   ]
  },
  {
   "cell_type": "code",
   "execution_count": 151,
   "metadata": {},
   "outputs": [],
   "source": [
    "#ollama.pull(\"llama2\")"
   ]
  },
  {
   "cell_type": "code",
   "execution_count": 152,
   "metadata": {},
   "outputs": [
    {
     "name": "stdout",
     "output_type": "stream",
     "text": [
      "{'model': 'llama2', 'created_at': '2024-04-18T20:28:06.798969Z', 'message': {'role': 'assistant', 'content': 'Of course, I\\'d be happy to help! Based on your query, I have scanned your calendar and noticed that you are currently available. I have scheduled a jog for 30 minutes starting at 16:30 today (April 18th). This time slot should give you enough space to complete your jog without any conflicts with other events in your calendar.\\n\\nWould you like me to bookmark this event so it appears in your calendar? Or would you prefer me to schedule a different time slot for the jog? Please let me know by responding with \"bookmark\" or \"schedule alternative time\".'}, 'done': True, 'total_duration': 143391404390, 'load_duration': 10614756281, 'prompt_eval_count': 1046, 'prompt_eval_duration': 103364602000, 'eval_count': 133, 'eval_duration': 29391946000}\n",
      "Of course, I'd be happy to help! Based on your query, I have scanned your calendar and noticed that you are currently available. I have scheduled a jog for 30 minutes starting at 16:30 today (April 18th). This time slot should give you enough space to complete your jog without any conflicts with other events in your calendar.\n",
      "\n",
      "Would you like me to bookmark this event so it appears in your calendar? Or would you prefer me to schedule a different time slot for the jog? Please let me know by responding with \"bookmark\" or \"schedule alternative time\".\n",
      "{'model': 'llama2', 'created_at': '2024-04-18T20:28:37.838681Z', 'message': {'role': 'assistant', 'content': 'You\\'re welcome! I\\'m glad I could help. Based on your query, I have scheduled the task \"Finish setting up tasks API\" for 2024-04-13 at 16:30:00. Is this suitable? Please let me know if you need any changes or have any other questions.'}, 'done': True, 'total_duration': 14413924886, 'load_duration': 7714433, 'prompt_eval_count': 12, 'prompt_eval_duration': 1661685000, 'eval_count': 74, 'eval_duration': 12724489000}\n",
      "You're welcome! I'm glad I could help. Based on your query, I have scheduled the task \"Finish setting up tasks API\" for 2024-04-13 at 16:30:00. Is this suitable? Please let me know if you need any changes or have any other questions.\n",
      "{'model': 'llama2', 'created_at': '2024-04-18T20:29:18.663253Z', 'message': {'role': 'assistant', 'content': \"Of course! I'm here to help you manage your tasks and calendar. Based on your query, it seems that you have a few tasks and events coming up, and you need some assistance scheduling them into your calendar.\\n\\nFirstly, could you please provide me with more details about the tasks and events you want to schedule? For example, what are the due dates, titles, and any other relevant information? This will help me create a more accurate and personalized plan for you.\"}, 'done': True, 'total_duration': 18051088260, 'load_duration': 1349630, 'prompt_eval_count': 6, 'prompt_eval_duration': 770363000, 'eval_count': 102, 'eval_duration': 17255121000}\n",
      "Of course! I'm here to help you manage your tasks and calendar. Based on your query, it seems that you have a few tasks and events coming up, and you need some assistance scheduling them into your calendar.\n",
      "\n",
      "Firstly, could you please provide me with more details about the tasks and events you want to schedule? For example, what are the due dates, titles, and any other relevant information? This will help me create a more accurate and personalized plan for you.\n"
     ]
    },
    {
     "ename": "RequestError",
     "evalue": "messages must contain content",
     "output_type": "error",
     "traceback": [
      "\u001b[0;31m---------------------------------------------------------------------------\u001b[0m",
      "\u001b[0;31mRequestError\u001b[0m                              Traceback (most recent call last)",
      "Cell \u001b[0;32mIn[152], line 5\u001b[0m\n\u001b[1;32m      3\u001b[0m \u001b[38;5;66;03m#establishing feedback loop to chat with user\u001b[39;00m\n\u001b[1;32m      4\u001b[0m \u001b[38;5;28;01mwhile\u001b[39;00m \u001b[38;5;129;01mnot\u001b[39;00m finalized_response:\n\u001b[0;32m----> 5\u001b[0m     response \u001b[38;5;241m=\u001b[39m \u001b[43mllama2\u001b[49m\u001b[43m(\u001b[49m\u001b[43mclient\u001b[49m\u001b[43m,\u001b[49m\u001b[43m \u001b[49m\u001b[43mmessages\u001b[49m\u001b[43m)\u001b[49m\n\u001b[1;32m      6\u001b[0m     \u001b[38;5;66;03m#print(type(response))\u001b[39;00m\n\u001b[1;32m      7\u001b[0m     \u001b[38;5;66;03m# response_object = json.loads(response)\u001b[39;00m\n\u001b[1;32m      8\u001b[0m \n\u001b[1;32m      9\u001b[0m     \u001b[38;5;66;03m# # Access the content of the message\u001b[39;00m\n\u001b[1;32m     10\u001b[0m     \u001b[38;5;66;03m# response_content = response_object['message']['content']\u001b[39;00m\n\u001b[1;32m     11\u001b[0m     \u001b[38;5;28mprint\u001b[39m(response)\n",
      "Cell \u001b[0;32mIn[150], line 2\u001b[0m, in \u001b[0;36mllama2\u001b[0;34m(client, messages)\u001b[0m\n\u001b[1;32m      1\u001b[0m \u001b[38;5;28;01mdef\u001b[39;00m \u001b[38;5;21mllama2\u001b[39m(client, messages):\n\u001b[0;32m----> 2\u001b[0m     response \u001b[38;5;241m=\u001b[39m \u001b[43mollama\u001b[49m\u001b[38;5;241;43m.\u001b[39;49m\u001b[43mchat\u001b[49m\u001b[43m(\u001b[49m\u001b[43mmodel\u001b[49m\u001b[38;5;241;43m=\u001b[39;49m\u001b[38;5;124;43m'\u001b[39;49m\u001b[38;5;124;43mllama2\u001b[39;49m\u001b[38;5;124;43m'\u001b[39;49m\u001b[43m,\u001b[49m\u001b[43m \u001b[49m\u001b[43mmessages\u001b[49m\u001b[38;5;241;43m=\u001b[39;49m\u001b[43mmessages\u001b[49m\u001b[43m)\u001b[49m\n\u001b[1;32m      3\u001b[0m     \u001b[38;5;28mprint\u001b[39m(response)\n\u001b[1;32m      4\u001b[0m     \u001b[38;5;28;01mreturn\u001b[39;00m response[\u001b[38;5;124m'\u001b[39m\u001b[38;5;124mmessage\u001b[39m\u001b[38;5;124m'\u001b[39m][\u001b[38;5;124m'\u001b[39m\u001b[38;5;124mcontent\u001b[39m\u001b[38;5;124m'\u001b[39m]\n",
      "File \u001b[0;32m/usr/local/lib/python3.10/site-packages/ollama/_client.py:173\u001b[0m, in \u001b[0;36mClient.chat\u001b[0;34m(self, model, messages, stream, format, options, keep_alive)\u001b[0m\n\u001b[1;32m    171\u001b[0m   \u001b[38;5;28;01mraise\u001b[39;00m RequestError(\u001b[38;5;124m'\u001b[39m\u001b[38;5;124mmessages must contain a role and it must be one of \u001b[39m\u001b[38;5;124m\"\u001b[39m\u001b[38;5;124msystem\u001b[39m\u001b[38;5;124m\"\u001b[39m\u001b[38;5;124m, \u001b[39m\u001b[38;5;124m\"\u001b[39m\u001b[38;5;124muser\u001b[39m\u001b[38;5;124m\"\u001b[39m\u001b[38;5;124m, or \u001b[39m\u001b[38;5;124m\"\u001b[39m\u001b[38;5;124massistant\u001b[39m\u001b[38;5;124m\"\u001b[39m\u001b[38;5;124m'\u001b[39m)\n\u001b[1;32m    172\u001b[0m \u001b[38;5;28;01mif\u001b[39;00m \u001b[38;5;129;01mnot\u001b[39;00m message\u001b[38;5;241m.\u001b[39mget(\u001b[38;5;124m'\u001b[39m\u001b[38;5;124mcontent\u001b[39m\u001b[38;5;124m'\u001b[39m):\n\u001b[0;32m--> 173\u001b[0m   \u001b[38;5;28;01mraise\u001b[39;00m RequestError(\u001b[38;5;124m'\u001b[39m\u001b[38;5;124mmessages must contain content\u001b[39m\u001b[38;5;124m'\u001b[39m)\n\u001b[1;32m    174\u001b[0m \u001b[38;5;28;01mif\u001b[39;00m images \u001b[38;5;241m:=\u001b[39m message\u001b[38;5;241m.\u001b[39mget(\u001b[38;5;124m'\u001b[39m\u001b[38;5;124mimages\u001b[39m\u001b[38;5;124m'\u001b[39m):\n\u001b[1;32m    175\u001b[0m   message[\u001b[38;5;124m'\u001b[39m\u001b[38;5;124mimages\u001b[39m\u001b[38;5;124m'\u001b[39m] \u001b[38;5;241m=\u001b[39m [_encode_image(image) \u001b[38;5;28;01mfor\u001b[39;00m image \u001b[38;5;129;01min\u001b[39;00m images]\n",
      "\u001b[0;31mRequestError\u001b[0m: messages must contain content"
     ]
    }
   ],
   "source": [
    "finalized_response = False\n",
    "client = Client(host='http://localhost:11434')\n",
    "#establishing feedback loop to chat with user\n",
    "while not finalized_response:\n",
    "    response = llama2(client, messages)\n",
    "    #print(type(response))\n",
    "    # response_object = json.loads(response)\n",
    "\n",
    "    # # Access the content of the message\n",
    "    # response_content = response_object['message']['content']\n",
    "    print(response)\n",
    "    log_message(\"assistant\", response)\n",
    "    log_activity(\"assistant\", response)\n",
    "    messages.append({\n",
    "        \"role\": \"assistant\",\n",
    "        \"content\": response\n",
    "    })\n",
    "    if re.compile(r'\\?').search(response):\n",
    "        finalized_response = False\n",
    "        user_feedback = input()\n",
    "        messages.append({\n",
    "            \"role\": \"user\",\n",
    "            \"content\": user_feedback\n",
    "        })\n",
    "        log_message(\"user\", user_feedback)\n",
    "        log_activity(\"user\", user_feedback)\n",
    "    else:\n",
    "        finalized_response = True\n"
   ]
  },
  {
   "cell_type": "code",
   "execution_count": null,
   "metadata": {},
   "outputs": [],
   "source": [
    "\n",
    "instruction2 = \"\"\"\\nBased on the user's request you've just processed, please output the appropriate function call(s) to interact with the Google Calendar API. Format your response as a single string containing one or more function calls separated by semicolons. Do not include explanations or additional text. If there is no action required then output an empty string.\n",
    "All dates should be in 'YYYY-MM-DD' format, and times should be in 24-hour format 'HH:MM'. Additionally, assume default duration as 1 hour for any event. Use createEvent for scheduling tasks on the to-do list.\n",
    "Available function templates to include in the response string:\n",
    "- createEvent(description, date, time, duration)\n",
    "- moveEvent(event_id, new_date, new_time)\n",
    "- updateEvent(event_id, new_color, new_duration, new_location)\n",
    "- deleteEvent(event_id)\n",
    "- createRecurringEvent(description, start_date, time, duration, frequency, until_date). Frequency can have the value of DAILY, WEEKLY, MONTHLY, YEARLY.\n",
    "- deleteRecurringEvent(recurring_event_id)\n",
    "- updateRecurringEvent(recurring_event_id, new_color, new_duration, new_location, new_frequency, new_until)\n",
    "For all functions other than createEvent and createRecurringEvent, make sure to fill in the id of the event you are referring to from the calendar provided.\n",
    "Make sure to fill in the required information, such as event names, dates, times, etc., based on the user's request context. Replace placeholders like 'today' or 'tomorrow' with specific dates in the format YYYY-MM-DD. If more details are needed from the user for a function call, use your best judgment to complete the function with the information available.\n",
    "Example input1: Schedule a team meeting for Friday afternoon at 3pm\n",
    "Example output1: createEvent(\"Team Meeting\", \"YYYY-MM-DD\", \"15:00\", 1:00)\n",
    "Example input2: Update my team meeting to be two hours\n",
    "Example output2: updateEvent(\"event_id\", '', 2:00, '')\n",
    "Example input3: Create a recurring meeting every Wednesday at 2pm until the end of June\n",
    "Example output3: createRecurringEvent(\"Meeting\", \"YYYY-MM-DD\", \"02:00\", \"1:00\", \"WEEKLY\", \"YYYY-MM-DD\")\n",
    "Example input4: Update my recurring meeting every Wednesday at 2pm to be every month until the end of August\n",
    "Example output4: updateRecurringEvent(\"RecurringEventId\", \"\", \"02:00\", \"1:00\", \"\", \"MONTHLY\", \"YYYY-MM-DD\")\n",
    "Example input5: Move my team meeting to tomorrow at 12pm\n",
    "Example output5: moveEvent(\"event_id\", 'YYYY-MM-DD', '12:00')\n",
    "Example input6: Clear my afternoon\n",
    "Example output7: deleteEvent(\"event_id\");deleteEvent(\"event_id\")\n",
    "Example input8: Schedule all my tasks\n",
    "Example output8: createEvent(\"Task 1\", \"YYYY-MM-DD\", \"10:00\", 1:00);createEvent(\"Task 2\", \"YYYY-MM-DD\", \"11:00\", 1:00);createEvent(\"Task 3\", \"YYYY-MM-DD\", \"12:00\", 1:00)\\n\n",
    "\n",
    "Now, please generate the necessary function call(s) based on the user's request.\"\"\""
   ]
  },
  {
   "cell_type": "code",
   "execution_count": null,
   "metadata": {},
   "outputs": [
    {
     "name": "stdout",
     "output_type": "stream",
     "text": [
      "{'model': 'llama2', 'created_at': '2024-04-18T20:16:33.174447Z', 'message': {'role': 'assistant', 'content': 'Based on the user\\'s request, the appropriate function call is:\\ncreateEvent(\"Task\", \"YYYY-MM-DD\", \"14:00\", 1:00)'}, 'done': True, 'total_duration': 105305700116, 'load_duration': 3605500, 'prompt_eval_count': 617, 'prompt_eval_duration': 61738675000, 'eval_count': 43, 'eval_duration': 43508865000}\n",
      "Based on the user's request, the appropriate function call is:\n",
      "createEvent(\"Task\", \"YYYY-MM-DD\", \"14:00\", 1:00)\n"
     ]
    }
   ],
   "source": [
    "messages.append({\n",
    "    \"role\": \"system\",\n",
    "    \"content\": instruction2\n",
    "})\n",
    "log_activity(\"system\", instruction2)\n",
    "#print('messages: ', messages)\n",
    "function_call = llama2(client, messages)\n",
    "log_activity(\"assistant\", function_call)\n",
    "print(function_call)\n",
    "#Example of function call: createEvent(\"Meeting with John\", \"2022-12-31\", \"10:00 AM\", 2)"
   ]
  },
  {
   "cell_type": "code",
   "execution_count": null,
   "metadata": {},
   "outputs": [
    {
     "name": "stdout",
     "output_type": "stream",
     "text": [
      "['Based on the user\\'s request, the appropriate function call is:\\ncreateEvent(\"Task\", \"YYYY-MM-DD\", \"14:00\", 1:00)']\n"
     ]
    },
    {
     "ename": "AttributeError",
     "evalue": "module 'methods' has no attribute 'checkSchedule'",
     "output_type": "error",
     "traceback": [
      "\u001b[0;31m---------------------------------------------------------------------------\u001b[0m",
      "\u001b[0;31mAttributeError\u001b[0m                            Traceback (most recent call last)",
      "Cell \u001b[0;32mIn[141], line 8\u001b[0m\n\u001b[1;32m      2\u001b[0m \u001b[38;5;28mprint\u001b[39m(function_calls)\n\u001b[1;32m      4\u001b[0m \u001b[38;5;66;03m# Define a dictionary mapping function names to their corresponding Python functions\u001b[39;00m\n\u001b[1;32m      5\u001b[0m functions \u001b[38;5;241m=\u001b[39m {\n\u001b[1;32m      6\u001b[0m     \u001b[38;5;124m\"\u001b[39m\u001b[38;5;124mcreateEvent\u001b[39m\u001b[38;5;124m\"\u001b[39m: methods\u001b[38;5;241m.\u001b[39mcreateEvent,\n\u001b[1;32m      7\u001b[0m     \u001b[38;5;124m\"\u001b[39m\u001b[38;5;124mmoveEvent\u001b[39m\u001b[38;5;124m\"\u001b[39m: methods\u001b[38;5;241m.\u001b[39mmoveEvent,\n\u001b[0;32m----> 8\u001b[0m     \u001b[38;5;124m\"\u001b[39m\u001b[38;5;124mcheckSchedule\u001b[39m\u001b[38;5;124m\"\u001b[39m: \u001b[43mmethods\u001b[49m\u001b[38;5;241;43m.\u001b[39;49m\u001b[43mcheckSchedule\u001b[49m,\n\u001b[1;32m      9\u001b[0m }\n\u001b[1;32m     11\u001b[0m \u001b[38;5;66;03m#TODO: works for createEvent, gotta change other functions in methods file to accept arguments as strings and convert them to appropriate data types\u001b[39;00m\n\u001b[1;32m     12\u001b[0m \u001b[38;5;66;03m# Iterate through the function calls\u001b[39;00m\n\u001b[1;32m     13\u001b[0m \u001b[38;5;28;01mfor\u001b[39;00m call \u001b[38;5;129;01min\u001b[39;00m function_calls:\n\u001b[1;32m     14\u001b[0m     \u001b[38;5;66;03m# Split the string to extract function name and arguments\u001b[39;00m\n",
      "\u001b[0;31mAttributeError\u001b[0m: module 'methods' has no attribute 'checkSchedule'"
     ]
    }
   ],
   "source": [
    "function_calls = [line.strip() for line in function_call.split(';')]\n",
    "print(function_calls)\n",
    "\n",
    "# Define a dictionary mapping function names to their corresponding Python functions\n",
    "functions = {\n",
    "    \"createEvent\": methods.createEvent,\n",
    "    \"moveEvent\": methods.moveEvent,\n",
    "    \"checkSchedule\": methods.checkSchedule,\n",
    "}\n",
    "\n",
    "#TODO: works for createEvent, gotta change other functions in methods file to accept arguments as strings and convert them to appropriate data types\n",
    "# Iterate through the function calls\n",
    "for call in function_calls:\n",
    "    # Split the string to extract function name and arguments\n",
    "    if call == '': continue\n",
    "    parts = call.split('(')\n",
    "    function_name = parts[0]\n",
    "\n",
    "    arguments = parts[1].rstrip(')').split(', ')\n",
    "\n",
    "\n",
    "    # Call the corresponding function with the provided arguments\n",
    "    if function_name in functions:\n",
    "        functions[function_name](*arguments)\n",
    "    else:\n",
    "        print(f\"Function '{function_name}' not found.\")"
   ]
  }
 ],
 "metadata": {
  "kernelspec": {
   "display_name": "venv",
   "language": "python",
   "name": "python3"
  },
  "language_info": {
   "codemirror_mode": {
    "name": "ipython",
    "version": 3
   },
   "file_extension": ".py",
   "mimetype": "text/x-python",
   "name": "python",
   "nbconvert_exporter": "python",
   "pygments_lexer": "ipython3",
   "version": "3.10.14"
  }
 },
 "nbformat": 4,
 "nbformat_minor": 2
}
